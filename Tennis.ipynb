{
 "cells": [
  {
   "cell_type": "markdown",
   "metadata": {},
   "source": [
    "# Collaboration and Competition\n",
    "\n",
    "---\n",
    "\n",
    "You are welcome to use this coding environment to train your agent for the project.  Follow the instructions below to get started!\n",
    "\n",
    "### 1. Start the Environment\n",
    "\n",
    "Run the next code cell to install a few packages.  This line will take a few minutes to run!"
   ]
  },
  {
   "cell_type": "code",
   "execution_count": 1,
   "metadata": {},
   "outputs": [
    {
     "name": "stdout",
     "output_type": "stream",
     "text": [
      "\u001b[31mtensorflow 1.7.1 has requirement numpy>=1.13.3, but you'll have numpy 1.12.1 which is incompatible.\u001b[0m\r\n",
      "\u001b[31mipython 6.5.0 has requirement prompt-toolkit<2.0.0,>=1.0.15, but you'll have prompt-toolkit 3.0.4 which is incompatible.\u001b[0m\r\n"
     ]
    }
   ],
   "source": [
    "!pip -q install ./python"
   ]
  },
  {
   "cell_type": "markdown",
   "metadata": {},
   "source": [
    "The environment is already saved in the Workspace and can be accessed at the file path provided below. "
   ]
  },
  {
   "cell_type": "code",
   "execution_count": 2,
   "metadata": {},
   "outputs": [
    {
     "name": "stderr",
     "output_type": "stream",
     "text": [
      "INFO:unityagents:\n",
      "'Academy' started successfully!\n",
      "Unity Academy name: Academy\n",
      "        Number of Brains: 1\n",
      "        Number of External Brains : 1\n",
      "        Lesson number : 0\n",
      "        Reset Parameters :\n",
      "\t\t\n",
      "Unity brain name: TennisBrain\n",
      "        Number of Visual Observations (per agent): 0\n",
      "        Vector Observation space type: continuous\n",
      "        Vector Observation space size (per agent): 8\n",
      "        Number of stacked Vector Observation: 3\n",
      "        Vector Action space type: continuous\n",
      "        Vector Action space size (per agent): 2\n",
      "        Vector Action descriptions: , \n"
     ]
    }
   ],
   "source": [
    "from unityagents import UnityEnvironment\n",
    "import numpy as np\n",
    "\n",
    "env = UnityEnvironment(file_name=\"/data/Tennis_Linux_NoVis/Tennis\")"
   ]
  },
  {
   "cell_type": "markdown",
   "metadata": {},
   "source": [
    "Environments contain **_brains_** which are responsible for deciding the actions of their associated agents. Here we check for the first brain available, and set it as the default brain we will be controlling from Python."
   ]
  },
  {
   "cell_type": "code",
   "execution_count": 3,
   "metadata": {},
   "outputs": [],
   "source": [
    "# get the default brain\n",
    "brain_name = env.brain_names[0]\n",
    "brain = env.brains[brain_name]"
   ]
  },
  {
   "cell_type": "markdown",
   "metadata": {},
   "source": [
    "### 2. Examine the State and Action Spaces\n",
    "\n",
    "Run the code cell below to print some information about the environment."
   ]
  },
  {
   "cell_type": "code",
   "execution_count": 4,
   "metadata": {},
   "outputs": [
    {
     "name": "stdout",
     "output_type": "stream",
     "text": [
      "Number of agents: 2\n",
      "Size of each action: 2\n",
      "There are 2 agents. Each observes a state with length: 24\n",
      "The state for the first agent looks like: [ 0.          0.          0.          0.          0.          0.          0.\n",
      "  0.          0.          0.          0.          0.          0.          0.\n",
      "  0.          0.         -6.65278625 -1.5        -0.          0.\n",
      "  6.83172083  6.         -0.          0.        ]\n"
     ]
    }
   ],
   "source": [
    "# reset the environment\n",
    "env_info = env.reset(train_mode=True)[brain_name]\n",
    "\n",
    "# number of agents \n",
    "num_agents = len(env_info.agents)\n",
    "print('Number of agents:', num_agents)\n",
    "\n",
    "# size of each action\n",
    "action_size = brain.vector_action_space_size\n",
    "print('Size of each action:', action_size)\n",
    "\n",
    "# examine the state space \n",
    "states = env_info.vector_observations\n",
    "state_size = states.shape[1]\n",
    "print('There are {} agents. Each observes a state with length: {}'.format(states.shape[0], state_size))\n",
    "print('The state for the first agent looks like:', states[0])"
   ]
  },
  {
   "cell_type": "markdown",
   "metadata": {},
   "source": [
    "### 3. Take Random Actions in the Environment\n",
    "\n",
    "In the next code cell, you will learn how to use the Python API to control the agent and receive feedback from the environment.\n",
    "\n",
    "Note that **in this coding environment, you will not be able to watch the agents while they are training**, and you should set `train_mode=True` to restart the environment."
   ]
  },
  {
   "cell_type": "code",
   "execution_count": 5,
   "metadata": {},
   "outputs": [
    {
     "name": "stdout",
     "output_type": "stream",
     "text": [
      "Total score (averaged over agents) this episode: -0.004999999888241291\n",
      "Total score (averaged over agents) this episode: -0.004999999888241291\n",
      "Total score (averaged over agents) this episode: 0.04500000085681677\n",
      "Total score (averaged over agents) this episode: 0.04500000085681677\n",
      "Total score (averaged over agents) this episode: -0.004999999888241291\n"
     ]
    }
   ],
   "source": [
    "for i in range(5):                                         # play game for 5 episodes\n",
    "    env_info = env.reset(train_mode=False)[brain_name]     # reset the environment    \n",
    "    states = env_info.vector_observations                  # get the current state (for each agent)\n",
    "    scores = np.zeros(num_agents)                          # initialize the score (for each agent)\n",
    "    while True:\n",
    "        actions = np.random.randn(num_agents, action_size) # select an action (for each agent)\n",
    "        actions = np.clip(actions, -1, 1)                  # all actions between -1 and 1\n",
    "        env_info = env.step(actions)[brain_name]           # send all actions to tne environment\n",
    "        next_states = env_info.vector_observations         # get next state (for each agent)\n",
    "        rewards = env_info.rewards                         # get reward (for each agent)\n",
    "        dones = env_info.local_done                        # see if episode finished\n",
    "        scores += env_info.rewards                         # update the score (for each agent)\n",
    "        states = next_states                               # roll over states to next time step\n",
    "        if np.any(dones):                                  # exit loop if episode finished\n",
    "            break\n",
    "    print('Total score (averaged over agents) this episode: {}'.format(np.mean(scores)))"
   ]
  },
  {
   "cell_type": "markdown",
   "metadata": {},
   "source": [
    "When finished, you can close the environment."
   ]
  },
  {
   "cell_type": "code",
   "execution_count": 6,
   "metadata": {},
   "outputs": [],
   "source": [
    "# env.close()"
   ]
  },
  {
   "cell_type": "markdown",
   "metadata": {},
   "source": [
    "### 4. It's Your Turn!\n",
    "\n",
    "Now it's your turn to train your own agent to solve the environment!  A few **important notes**:\n",
    "- When training the environment, set `train_mode=True`, so that the line for resetting the environment looks like the following:\n",
    "```python\n",
    "env_info = env.reset(train_mode=True)[brain_name]\n",
    "```\n",
    "- To structure your work, you're welcome to work directly in this Jupyter notebook, or you might like to start over with a new file!  You can see the list of files in the workspace by clicking on **_Jupyter_** in the top left corner of the notebook.\n",
    "- In this coding environment, you will not be able to watch the agents while they are training.  However, **_after training the agents_**, you can download the saved model weights to watch the agents on your own machine! "
   ]
  },
  {
   "cell_type": "code",
   "execution_count": 7,
   "metadata": {},
   "outputs": [],
   "source": [
    "%load_ext autoreload\n",
    "%autoreload 2"
   ]
  },
  {
   "cell_type": "code",
   "execution_count": 8,
   "metadata": {},
   "outputs": [],
   "source": [
    "import random\n",
    "import torch\n",
    "import numpy as np\n",
    "from collections import deque\n",
    "import matplotlib.pyplot as plt\n",
    "%matplotlib inline\n",
    "import time"
   ]
  },
  {
   "cell_type": "code",
   "execution_count": 9,
   "metadata": {},
   "outputs": [
    {
     "name": "stdout",
     "output_type": "stream",
     "text": [
      "Episode  100 Score 0.00 Mean Last 10 0.0000 Mean Last 100 0.0020 Elapsed     41\n",
      "Episode  200 Score 0.00 Mean Last 10 0.0000 Mean Last 100 0.0020 Elapsed     90\n",
      "Episode  300 Score 0.00 Mean Last 10 0.0000 Mean Last 100 0.0099 Elapsed    146\n",
      "Episode  400 Score 0.00 Mean Last 10 0.0000 Mean Last 100 0.0080 Elapsed    199\n",
      "Episode  500 Score 0.00 Mean Last 10 0.0200 Mean Last 100 0.0218 Elapsed    267\n",
      "Episode  600 Score 0.00 Mean Last 10 0.0270 Mean Last 100 0.0311 Elapsed    335\n",
      "Episode  700 Score 0.00 Mean Last 10 0.0200 Mean Last 100 0.0154 Elapsed    395\n",
      "Episode  800 Score 0.10 Mean Last 10 0.0000 Mean Last 100 0.0284 Elapsed    465\n",
      "Episode  900 Score 0.00 Mean Last 10 0.0480 Mean Last 100 0.0384 Elapsed    541\n",
      "Episode 1000 Score 0.19 Mean Last 10 0.0480 Mean Last 100 0.0469 Elapsed    622\n",
      "Episode 1100 Score 0.10 Mean Last 10 0.0680 Mean Last 100 0.0565 Elapsed    708\n",
      "Episode 1200 Score 0.10 Mean Last 10 0.0790 Mean Last 100 0.0755 Elapsed    809\n",
      "Episode 1300 Score 0.10 Mean Last 10 0.0880 Mean Last 100 0.0886 Elapsed    927\n",
      "Episode 1400 Score 0.10 Mean Last 10 0.1000 Mean Last 100 0.1039 Elapsed   1072\n",
      "Episode 1500 Score 0.40 Mean Last 10 0.1560 Mean Last 100 0.1210 Elapsed   1235\n",
      "Episode 1600 Score 0.10 Mean Last 10 0.0990 Mean Last 100 0.1171 Elapsed   1406\n",
      "Episode 1700 Score 0.10 Mean Last 10 0.1190 Mean Last 100 0.1240 Elapsed   1588\n",
      "Episode 1800 Score 0.10 Mean Last 10 0.1800 Mean Last 100 0.1373 Elapsed   1794\n",
      "Episode 1900 Score 0.00 Mean Last 10 0.1280 Mean Last 100 0.1631 Elapsed   2029\n",
      "Episode 2000 Score 0.30 Mean Last 10 0.3100 Mean Last 100 0.1903 Elapsed   2309\n",
      "Episode 2100 Score 0.30 Mean Last 10 0.2700 Mean Last 100 0.2586 Elapsed   2682\n",
      "Episode 2200 Score 0.19 Mean Last 10 0.3890 Mean Last 100 0.2814 Elapsed   3074\n",
      "Episode 2300 Score 0.10 Mean Last 10 0.4390 Mean Last 100 0.3119 Elapsed   3515\n",
      "Episode 2400 Score 0.10 Mean Last 10 0.5280 Mean Last 100 0.3063 Elapsed   3944\n",
      "Episode 2500 Score 0.60 Mean Last 10 0.3600 Mean Last 100 0.3710 Elapsed   4473\n",
      "Episode 2600 Score 0.30 Mean Last 10 0.3400 Mean Last 100 0.2909 Elapsed   4880\n",
      "Episode 2700 Score 0.30 Mean Last 10 0.2890 Mean Last 100 0.2389 Elapsed   5223\n",
      "Episode 2800 Score 0.30 Mean Last 10 0.2300 Mean Last 100 0.1980 Elapsed   5511\n",
      "Episode 2900 Score 0.30 Mean Last 10 0.3900 Mean Last 100 0.3631 Elapsed   6024\n",
      "Episode 3000 Score 0.80 Mean Last 10 0.2190 Mean Last 100 0.2699 Elapsed   6434\n",
      "Episode 3100 Score 0.60 Mean Last 10 0.2500 Mean Last 100 0.2493 Elapsed   6808\n",
      "Episode 3200 Score 1.50 Mean Last 10 0.6700 Mean Last 100 0.4220 Elapsed   7436\n",
      "Episode 3240 Score 0.89 Mean Last 10 0.4300 Mean Last 100 0.4970 Elapsed   7708\n",
      "Solved in 3241 episodes with mean score: 0.5029\n"
     ]
    }
   ],
   "source": [
    "from maddpg_agent import MADDPGAgent\n",
    "import time\n",
    "agent = MADDPGAgent(num_agents, state_size, action_size, random_seed=47, batch_size=256, buffer_size=int(1e6), use_batch_norm=True)\n",
    "episode_scores = []\n",
    "best_score=0.\n",
    "start_time = time.time()\n",
    "for i in range(5000):\n",
    "    env_info = env.reset(train_mode=True)[brain_name]\n",
    "    states = env_info.vector_observations\n",
    "    scores = np.zeros(num_agents)\n",
    "    agent.reset_noise()\n",
    "    game_time = 0\n",
    "    while True:\n",
    "        # states[0] is the observation of agent 0 and states[1] is the observation of agent 1\n",
    "        # actions[0] is the action chosen by agent 0 and actions[1] is the action chosen by agent 1\n",
    "        # selection of action is always based only on the observation\n",
    "        actions = agent.act(states)\n",
    "\n",
    "        # Apply these actions to the environment and receive the next state, rewards, and doneness\n",
    "        env_info = env.step(actions)[brain_name]\n",
    "        next_states = env_info.vector_observations\n",
    "        rewards = env_info.rewards\n",
    "        \n",
    "        #print(\"actions: {} rewards: {}\".format(actions, rewards))\n",
    "        \n",
    "        dones = env_info.local_done\n",
    "        \n",
    "        # Send in these two states, actions, next_states, and dones into the agent\n",
    "        agent.step(states,actions,rewards,next_states, dones)\n",
    "        scores += np.array(env_info.rewards)\n",
    "        states = next_states\n",
    "        if np.any(dones):\n",
    "            break\n",
    "        game_time += 1\n",
    "    \n",
    "    mean_last_10 = 0.\n",
    "    mean_last_100 = 0.\n",
    "    episode_scores.append(np.max(scores))\n",
    "\n",
    "    if i >= 10:\n",
    "        mean_last_10 = np.mean(episode_scores[i-10:i])\n",
    "        if i>= 100:\n",
    "            mean_last_100 = np.mean(episode_scores[i-100:i])\n",
    "            if mean_last_100 >= 0.5:\n",
    "                print(\"\\nSolved in {} episodes with mean score: {:.4f}\".format(i, mean_last_100))\n",
    "                break\n",
    "    elapsed_time = int(time.time() - start_time)\n",
    "    sfmt = \"\\rEpisode {:4d} Score {:.2f} Mean Last 10 {:.4f} Mean Last 100 {:.4f} Elapsed {:6d}\".format(i,\n",
    "                                                                                  np.max(scores),\n",
    "                                                                                  mean_last_10,\n",
    "                                                                                  mean_last_100,\n",
    "                                                                                  elapsed_time)\n",
    "    print(sfmt, end=\"\")\n",
    "    if i%100 == 0 and i>0:\n",
    "        print(sfmt)\n",
    "\n",
    "\n"
   ]
  },
  {
   "cell_type": "code",
   "execution_count": 10,
   "metadata": {},
   "outputs": [],
   "source": [
    "import pickle as pkl"
   ]
  },
  {
   "cell_type": "code",
   "execution_count": 11,
   "metadata": {},
   "outputs": [],
   "source": [
    "pkl.dump(episode_scores, open(\"episode_scores.pkl\", \"wb\"))"
   ]
  },
  {
   "cell_type": "code",
   "execution_count": 12,
   "metadata": {},
   "outputs": [],
   "source": [
    "import torch\n",
    "torch.save(agent.agents[0].actor_local.state_dict(),open(\"actor_local0.pt\",\"wb\"))\n",
    "torch.save(agent.agents[1].actor_local.state_dict(), open(\"actor_local1.pt\",\"wb\"))\n",
    "torch.save(agent.agents[0].critic_local.state_dict(),open(\"critic_local0.pt\",\"wb\"))\n",
    "torch.save(agent.agents[1].critic_local.state_dict(), open(\"critic_local1.pt\",\"wb\"))"
   ]
  },
  {
   "cell_type": "code",
   "execution_count": 8,
   "metadata": {},
   "outputs": [],
   "source": [
    "import pickle as pkl\n",
    "import seaborn as sns\n",
    "import matplotlib.pyplot as plt\n",
    "import pandas as pd\n",
    "import numpy as np"
   ]
  },
  {
   "cell_type": "code",
   "execution_count": 9,
   "metadata": {},
   "outputs": [
    {
     "name": "stdout",
     "output_type": "stream",
     "text": [
      "Smoothed Score exceeded 0.5 at 3240\n"
     ]
    }
   ],
   "source": [
    "episode_scores = pkl.load(open(\"episode_scores.pkl\",\"rb\"))\n",
    "means = [np.mean(episode_scores[max(i-100,0):i+1]) for i in range(len(episode_scores))]\n",
    "d = {'raw scores':episode_scores, 'smoothed x100 scores':means}\n",
    "pdf = pd.DataFrame(d)\n",
    "print(\"Smoothed Score exceeded 0.5 at {}\".format(pdf.index[pdf['smoothed x100 scores'] >= 0.5][0]))"
   ]
  },
  {
   "cell_type": "code",
   "execution_count": 25,
   "metadata": {},
   "outputs": [
    {
     "data": {
      "image/png": "[encoded data removed]",
      "text/plain": [
       "<matplotlib.figure.Figure at 0x7fc81dee5c18>"
      ]
     },
     "metadata": {
      "needs_background": "light"
     },
     "output_type": "display_data"
    }
   ],
   "source": [
    "import matplotlib.pyplot as plt\n",
    "%matplotlib inline\n",
    "import numpy as np\n",
    "ax = pdf.plot() \n",
    "fig = ax.get_figure()\n",
    "plt.ylabel('Score')\n",
    "plt.xlabel('Episode #')\n",
    "fig.savefig('fig.png')\n"
   ]
  },
  {
   "cell_type": "code",
   "execution_count": null,
   "metadata": {},
   "outputs": [],
   "source": []
  },
  {
   "cell_type": "code",
   "execution_count": null,
   "metadata": {},
   "outputs": [],
   "source": []
  }
 ],
 "metadata": {
  "kernelspec": {
   "display_name": "Python 3",
   "language": "python",
   "name": "python3"
  },
  "language_info": {
   "codemirror_mode": {
    "name": "ipython",
    "version": 3
   },
   "file_extension": ".py",
   "mimetype": "text/x-python",
   "name": "python",
   "nbconvert_exporter": "python",
   "pygments_lexer": "ipython3",
   "version": "3.6.3"
  }
 },
 "nbformat": 4,
 "nbformat_minor": 2
}
